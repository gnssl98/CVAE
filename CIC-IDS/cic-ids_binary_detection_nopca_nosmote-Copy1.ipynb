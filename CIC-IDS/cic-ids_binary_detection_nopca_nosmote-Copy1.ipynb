{
 "cells": [
  {
   "cell_type": "markdown",
   "id": "db7ba57a",
   "metadata": {},
   "source": [
    "import pandas as pd\n",
    "\n",
    "df = pd.read_csv(\"cic_ids_smote03.csv\")"
   ]
  },
  {
   "cell_type": "code",
   "execution_count": 1,
   "id": "ee5138ce",
   "metadata": {},
   "outputs": [],
   "source": [
    "import pandas as pd\n",
    "\n",
    "df = pd.read_csv(\"D:/dataset/cleaned_improved_cicids2017.csv\")"
   ]
  },
  {
   "cell_type": "code",
   "execution_count": 2,
   "id": "58c8ddb0",
   "metadata": {},
   "outputs": [
    {
     "data": {
      "text/plain": [
       "BENIGN                        1594540\n",
       "Portscan                       159066\n",
       "DoS Hulk                       158468\n",
       "DDoS                            95144\n",
       "Infiltration - Portscan         71767\n",
       "DoS GoldenEye                    7567\n",
       "FTP-Patator                      3972\n",
       "DoS Slowloris                    3859\n",
       "SSH-Patator                      2961\n",
       "DoS Slowhttptest                 1740\n",
       "Botnet                            736\n",
       "Web Attack - Brute Force           73\n",
       "Infiltration                       36\n",
       "Web Attack - XSS                   18\n",
       "Web Attack - SQL Injection         13\n",
       "Heartbleed                         11\n",
       "Name: Label, dtype: int64"
      ]
     },
     "execution_count": 2,
     "metadata": {},
     "output_type": "execute_result"
    }
   ],
   "source": [
    "df['Label'].value_counts()"
   ]
  },
  {
   "cell_type": "markdown",
   "id": "b29e1fc8",
   "metadata": {},
   "source": [
    "BENIGN                        1594540<br>\n",
    "Portscan                       159066<br>\n",
    "DoS Hulk                       158468<br>\n",
    "DDoS                            95144<br>\n",
    "Infiltration - Portscan         71767<br>\n",
    "DoS GoldenEye                    7567<br>\n",
    "FTP-Patator                      3972<br>\n",
    "DoS Slowloris                    3859<br>\n",
    "SSH-Patator                      2961<br>\n",
    "DoS Slowhttptest                 1740<br>\n",
    "Botnet                            736<br>\n",
    "Web Attack - Brute Force           73<br>\n",
    "Infiltration                       36<br>\n",
    "Web Attack - XSS                   18<br>\n",
    "Web Attack - SQL Injection         13<br>\n",
    "Heartbleed                         11<br>"
   ]
  },
  {
   "cell_type": "code",
   "execution_count": 3,
   "id": "3c0c8dd1-d7ab-4aa7-ad0a-b9dab95dc28b",
   "metadata": {},
   "outputs": [
    {
     "name": "stdout",
     "output_type": "stream",
     "text": [
      "   Protocol  Flow Duration  Total Fwd Packet  Total Bwd packets  \\\n",
      "0         0      119719148               231                  0   \n",
      "1        17       65511209                 6                  6   \n",
      "2        17      113976922               267                  0   \n",
      "3        17       67037196                 8                  8   \n",
      "4        17       68045057                 8                  8   \n",
      "\n",
      "   Total Length of Fwd Packet  Total Length of Bwd Packet  \\\n",
      "0                           0                           0   \n",
      "1                         288                         288   \n",
      "2                       20447                           0   \n",
      "3                         384                         384   \n",
      "4                         384                         384   \n",
      "\n",
      "   Fwd Packet Length Max  Fwd Packet Length Min  Fwd Packet Length Mean  \\\n",
      "0                      0                      0                0.000000   \n",
      "1                     48                     48               48.000000   \n",
      "2                    153                     37               76.580524   \n",
      "3                     48                     48               48.000000   \n",
      "4                     48                     48               48.000000   \n",
      "\n",
      "   Fwd Packet Length Std  ...  Active Max  Active Min   Idle Mean  \\\n",
      "0               0.000000  ...    22509459          17  12685486.0   \n",
      "1               0.000000  ...     1506210     1506210  64004884.0   \n",
      "2              44.140625  ...    10983883          14  25498178.0   \n",
      "3               0.000000  ...    11034681    11034681  55956316.0   \n",
      "4               0.000000  ...    11043596    11043596  56943904.0   \n",
      "\n",
      "       Idle Std  Idle Max  Idle Min  ICMP Code  ICMP Type  \\\n",
      "0  5.296658e+06  20694308   6499982          0          0   \n",
      "1  0.000000e+00  64004884  64004884          0          0   \n",
      "2  1.883305e+07  48523116   5463561          0          0   \n",
      "3  0.000000e+00  55956316  55956316          0          0   \n",
      "4  0.000000e+00  56943904  56943904          0          0   \n",
      "\n",
      "   Total TCP Flow Time  Label  \n",
      "0                    0      0  \n",
      "1                    0      0  \n",
      "2                    0      0  \n",
      "3                    0      0  \n",
      "4                    0      0  \n",
      "\n",
      "[5 rows x 83 columns]\n"
     ]
    }
   ],
   "source": [
    "# 이진분류\n",
    "df['Label'] = df['Label'].apply(lambda x: 0 if x == 'BENIGN' else 1)\n",
    "\n",
    "# 변경된 데이터프레임 확인\n",
    "print(df.head())"
   ]
  },
  {
   "cell_type": "code",
   "execution_count": 4,
   "id": "c19b4d94-bb98-4e0c-aad8-994594a85d70",
   "metadata": {},
   "outputs": [],
   "source": [
    "from sklearn.decomposition import PCA\n",
    "from sklearn.preprocessing import StandardScaler\n",
    "import numpy as np\n",
    "\n",
    "tmp = df.drop(labels = 'Label',axis=1)\n",
    "labels = df['Label']\n",
    "\n",
    "scaler = StandardScaler()\n",
    "X_scaled = scaler.fit_transform(tmp)\n",
    "\n",
    "X_scaled_df = pd.DataFrame(X_scaled, columns=tmp.columns)  # 스케일된 데이터를 DataFrame으로 변환\n",
    "df_merged = pd.concat([X_scaled_df, labels.reset_index(drop=True)], axis=1)  # Index 정렬 후 병합\n"
   ]
  },
  {
   "cell_type": "code",
   "execution_count": 5,
   "id": "e6b75365",
   "metadata": {},
   "outputs": [
    {
     "data": {
      "text/plain": [
       "((1889973, 83), (209998, 83))"
      ]
     },
     "execution_count": 5,
     "metadata": {},
     "output_type": "execute_result"
    }
   ],
   "source": [
    "from sklearn.model_selection import train_test_split\n",
    "\n",
    "X_train, X_test = train_test_split(df_merged, test_size=0.1, random_state=42)\n",
    "X_train.shape, X_test.shape"
   ]
  },
  {
   "cell_type": "code",
   "execution_count": 6,
   "id": "f9872e00",
   "metadata": {},
   "outputs": [
    {
     "data": {
      "text/plain": [
       "(159227, 83)"
      ]
     },
     "execution_count": 6,
     "metadata": {},
     "output_type": "execute_result"
    }
   ],
   "source": [
    "X_train_normal = X_train[X_train['Label'] == 0]\n",
    "X_train_normal.shape\n",
    "\n",
    "X_test_normal = X_test[X_test['Label'] == 0]\n",
    "X_test_normal.shape"
   ]
  },
  {
   "cell_type": "code",
   "execution_count": 7,
   "id": "a7624c4d",
   "metadata": {},
   "outputs": [],
   "source": [
    "X_train_not_normal = X_train[X_train['Label'] !=0]\n",
    "\n",
    "X_test = pd.concat([X_test, X_train_not_normal])"
   ]
  },
  {
   "cell_type": "code",
   "execution_count": 8,
   "id": "14f36da5",
   "metadata": {},
   "outputs": [],
   "source": [
    "y_test = X_test['Label']\n",
    "X_test = X_test.drop(labels='Label',axis=1)\n",
    "y_train_normal = X_train_normal['Label']\n",
    "X_train_normal = X_train_normal.drop(labels='Label', axis=1)"
   ]
  },
  {
   "cell_type": "code",
   "execution_count": 9,
   "id": "56bcdedf",
   "metadata": {},
   "outputs": [],
   "source": [
    "import tensorflow as tf\n",
    "from tensorflow.keras import optimizers\n",
    "from tensorflow.keras.models import Model\n",
    "from tensorflow.keras.layers import Input, Dense, Dropout\n",
    "from tensorflow.keras.utils import plot_model\n",
    "import tensorflow as tf\n",
    "from keras.layers import Input, Dropout, Dense, LSTM, TimeDistributed, RepeatVector, Conv1D, Conv1DTranspose\n",
    "from keras.models import Model\n",
    "from keras import regularizers\n",
    "from keras_self_attention import SeqWeightedAttention, SeqSelfAttention\n",
    "from keras.callbacks import EarlyStopping"
   ]
  },
  {
   "cell_type": "code",
   "execution_count": 10,
   "id": "7b2a5899",
   "metadata": {},
   "outputs": [
    {
     "name": "stdout",
     "output_type": "stream",
     "text": [
      "Model: \"model\"\n",
      "__________________________________________________________________________________________________\n",
      " Layer (type)                   Output Shape         Param #     Connected to                     \n",
      "==================================================================================================\n",
      " InputLabel (InputLayer)        [(None, 1)]          0           []                               \n",
      "                                                                                                  \n",
      " embedding (Embedding)          (None, 1, 82)        164         ['InputLabel[0][0]']             \n",
      "                                                                                                  \n",
      " InputFeatures (InputLayer)     [(None, 82)]         0           []                               \n",
      "                                                                                                  \n",
      " flatten (Flatten)              (None, 82)           0           ['embedding[0][0]']              \n",
      "                                                                                                  \n",
      " concatenate (Concatenate)      (None, 164)          0           ['InputFeatures[0][0]',          \n",
      "                                                                  'flatten[0][0]']                \n",
      "                                                                                                  \n",
      " reshape (Reshape)              (None, 164, 1)       0           ['concatenate[0][0]']            \n",
      "                                                                                                  \n",
      " conv1d (Conv1D)                (None, 164, 64)      256         ['reshape[0][0]']                \n",
      "                                                                                                  \n",
      " conv1d_1 (Conv1D)              (None, 164, 32)      6176        ['conv1d[0][0]']                 \n",
      "                                                                                                  \n",
      " conv1d_2 (Conv1D)              (None, 164, 16)      1552        ['conv1d_1[0][0]']               \n",
      "                                                                                                  \n",
      " flatten_1 (Flatten)            (None, 2624)         0           ['conv1d_2[0][0]']               \n",
      "                                                                                                  \n",
      " dense (Dense)                  (None, 20)           52500       ['flatten_1[0][0]']              \n",
      "                                                                                                  \n",
      " dense_1 (Dense)                (None, 20)           420         ['dense[0][0]']                  \n",
      "                                                                                                  \n",
      " dense_2 (Dense)                (None, 10)           210         ['dense_1[0][0]']                \n",
      "                                                                                                  \n",
      " dense_3 (Dense)                (None, 10)           210         ['dense_1[0][0]']                \n",
      "                                                                                                  \n",
      " lambda (Lambda)                (None, 10)           0           ['dense_2[0][0]',                \n",
      "                                                                  'dense_3[0][0]']                \n",
      "                                                                                                  \n",
      " concatenate_1 (Concatenate)    (None, 92)           0           ['lambda[0][0]',                 \n",
      "                                                                  'flatten[0][0]']                \n",
      "                                                                                                  \n",
      " dense_4 (Dense)                (None, 3280)         305040      ['concatenate_1[0][0]']          \n",
      "                                                                                                  \n",
      " reshape_1 (Reshape)            (None, 164, 20)      0           ['dense_4[0][0]']                \n",
      "                                                                                                  \n",
      " conv1d_transpose (Conv1DTransp  (None, 164, 16)     976         ['reshape_1[0][0]']              \n",
      " ose)                                                                                             \n",
      "                                                                                                  \n",
      " conv1d_transpose_1 (Conv1DTran  (None, 164, 32)     1568        ['conv1d_transpose[0][0]']       \n",
      " spose)                                                                                           \n",
      "                                                                                                  \n",
      " conv1d_transpose_2 (Conv1DTran  (None, 164, 64)     6208        ['conv1d_transpose_1[0][0]']     \n",
      " spose)                                                                                           \n",
      "                                                                                                  \n",
      " flatten_2 (Flatten)            (None, 10496)        0           ['conv1d_transpose_2[0][0]']     \n",
      "                                                                                                  \n",
      " dense_5 (Dense)                (None, 82)           860754      ['flatten_2[0][0]']              \n",
      "                                                                                                  \n",
      " tf.__operators__.add (TFOpLamb  (None, 10)          0           ['dense_3[0][0]']                \n",
      " da)                                                                                              \n",
      "                                                                                                  \n",
      " tf.math.square_1 (TFOpLambda)  (None, 10)           0           ['dense_2[0][0]']                \n",
      "                                                                                                  \n",
      " tf.math.subtract_1 (TFOpLambda  (None, 10)          0           ['tf.__operators__.add[0][0]',   \n",
      " )                                                                'tf.math.square_1[0][0]']       \n",
      "                                                                                                  \n",
      " tf.math.exp (TFOpLambda)       (None, 10)           0           ['dense_3[0][0]']                \n",
      "                                                                                                  \n",
      " tf.math.subtract_2 (TFOpLambda  (None, 10)          0           ['tf.math.subtract_1[0][0]',     \n",
      " )                                                                'tf.math.exp[0][0]']            \n",
      "                                                                                                  \n",
      " tf.math.subtract (TFOpLambda)  (None, 82)           0           ['InputFeatures[0][0]',          \n",
      "                                                                  'dense_5[0][0]']                \n",
      "                                                                                                  \n",
      " tf.math.reduce_sum_1 (TFOpLamb  (None,)             0           ['tf.math.subtract_2[0][0]']     \n",
      " da)                                                                                              \n",
      "                                                                                                  \n",
      " tf.math.square (TFOpLambda)    (None, 82)           0           ['tf.math.subtract[0][0]']       \n",
      "                                                                                                  \n",
      " tf.math.multiply (TFOpLambda)  (None,)              0           ['tf.math.reduce_sum_1[0][0]']   \n",
      "                                                                                                  \n",
      " tf.math.reduce_sum (TFOpLambda  (None,)             0           ['tf.math.square[0][0]']         \n",
      " )                                                                                                \n",
      "                                                                                                  \n",
      " tf.math.multiply_1 (TFOpLambda  (None,)             0           ['tf.math.multiply[0][0]']       \n",
      " )                                                                                                \n"
     ]
    },
    {
     "name": "stdout",
     "output_type": "stream",
     "text": [
      "                                                                                                  \n",
      " tf.__operators__.add_1 (TFOpLa  (None,)             0           ['tf.math.reduce_sum[0][0]',     \n",
      " mbda)                                                            'tf.math.multiply_1[0][0]']     \n",
      "                                                                                                  \n",
      " tf.math.reduce_mean (TFOpLambd  ()                  0           ['tf.__operators__.add_1[0][0]'] \n",
      " a)                                                                                               \n",
      "                                                                                                  \n",
      " add_loss (AddLoss)             ()                   0           ['tf.math.reduce_mean[0][0]']    \n",
      "                                                                                                  \n",
      "==================================================================================================\n",
      "Total params: 1,236,034\n",
      "Trainable params: 1,236,034\n",
      "Non-trainable params: 0\n",
      "__________________________________________________________________________________________________\n",
      "Epoch 1/50\n",
      "40369/40369 [==============================] - 680s 17ms/step - loss: 8133.3223 - accuracy: 0.8167 - val_loss: 8.4142 - val_accuracy: 0.8657\n",
      "Epoch 2/50\n",
      "40369/40369 [==============================] - 671s 17ms/step - loss: 11.0345 - accuracy: 0.8595 - val_loss: 5.0698 - val_accuracy: 0.8037\n",
      "Epoch 3/50\n",
      "40369/40369 [==============================] - 681s 17ms/step - loss: 9.3881 - accuracy: 0.8741 - val_loss: 6.0512 - val_accuracy: 0.9085\n",
      "Epoch 4/50\n",
      "40369/40369 [==============================] - 457s 11ms/step - loss: 8.5107 - accuracy: 0.8855 - val_loss: 2.5651 - val_accuracy: 0.9257\n",
      "Epoch 5/50\n",
      "40369/40369 [==============================] - 328s 8ms/step - loss: 7.2388 - accuracy: 0.8921 - val_loss: 4.2163 - val_accuracy: 0.8872\n",
      "Epoch 6/50\n",
      "40369/40369 [==============================] - 328s 8ms/step - loss: 6.5402 - accuracy: 0.8930 - val_loss: 2.5212 - val_accuracy: 0.9293\n",
      "Epoch 7/50\n",
      "40369/40369 [==============================] - 328s 8ms/step - loss: 7.4039 - accuracy: 0.8952 - val_loss: 2.7917 - val_accuracy: 0.9279\n",
      "Epoch 8/50\n",
      "40369/40369 [==============================] - 326s 8ms/step - loss: 6.3703 - accuracy: 0.8965 - val_loss: 2.7905 - val_accuracy: 0.9070\n",
      "Epoch 9/50\n",
      "40369/40369 [==============================] - 326s 8ms/step - loss: 5.5141 - accuracy: 0.9018 - val_loss: 2.5518 - val_accuracy: 0.9227\n",
      "Epoch 10/50\n",
      "40369/40369 [==============================] - 327s 8ms/step - loss: 5.4070 - accuracy: 0.9025 - val_loss: 2.7034 - val_accuracy: 0.8723\n",
      "Epoch 11/50\n",
      "40369/40369 [==============================] - 327s 8ms/step - loss: 5.6496 - accuracy: 0.9054 - val_loss: 3.4030 - val_accuracy: 0.9203\n"
     ]
    }
   ],
   "source": [
    "import tensorflow as tf\n",
    "from tensorflow.keras import layers, losses, Model, Input\n",
    "import numpy as np\n",
    "from tensorflow.keras import backend as K\n",
    "\n",
    "latent_dim = 10\n",
    "inter_dim = 20\n",
    "\n",
    "# Sampling function for reparameterization trick\n",
    "def sampling(args):\n",
    "    z_mean, z_log_sigma = args\n",
    "    batch_size = tf.shape(z_mean)[0]\n",
    "    epsilon = K.random_normal(shape=(batch_size, latent_dim), mean=0., stddev=1.)\n",
    "    return z_mean + z_log_sigma * epsilon\n",
    "\n",
    "def vae_loss(x, x_decoded_mean, z_mean, z_log_sigma):\n",
    "    reconstruction_loss = K.sum(K.square(x - x_decoded_mean), axis=1)\n",
    "    kl_loss = -0.5 * K.sum(1 + z_log_sigma - K.square(z_mean) - K.exp(z_log_sigma), axis=-1)\n",
    "    kl_loss_weighted = kl_loss * 0.001  # KL 다이버전스 손실에 가중치 부여\n",
    "    total_loss = K.mean(reconstruction_loss + kl_loss_weighted)\n",
    "    return total_loss\n",
    "\n",
    "def cvae(X, labels):\n",
    "    features = X.shape[1]  # 2D 데이터이므로 timesteps는 필요 없고, features만 사용\n",
    "    input_x = Input(shape=(features,), name='InputFeatures')  # 2D 입력 (샘플, 특징)\n",
    "\n",
    "    input_label = Input(shape=(1,), name='InputLabel')  # Assumes binary or multi-class label\n",
    "\n",
    "    # Embed the label into the same shape as the input\n",
    "    embedded_label = layers.Embedding(input_dim=2, output_dim=features)(input_label)  # Adjust output_dim to match features\n",
    "    embedded_label = layers.Flatten()(embedded_label)\n",
    "\n",
    "    # Concatenate input_x and embedded_label\n",
    "    concatenated_input = layers.Concatenate()([input_x, embedded_label])\n",
    "\n",
    "    # Reshape for Conv1D layer (to 3D)\n",
    "    reshaped_input = layers.Reshape((features + embedded_label.shape[-1], 1))(concatenated_input)\n",
    "\n",
    "    # Encoder with CNN layers\n",
    "    h = layers.Conv1D(filters=64, kernel_size=3, activation=\"relu\", padding='same')(reshaped_input)\n",
    "    h = layers.Conv1D(filters=32, kernel_size=3, activation=\"relu\", padding='same')(h)\n",
    "    h = layers.Conv1D(filters=16, kernel_size=3, activation=\"relu\", padding='same')(h)\n",
    "\n",
    "    # Flatten for dense layers (MLP)\n",
    "    h = layers.Flatten()(h)\n",
    "    h = layers.Dense(inter_dim, activation='relu')(h)\n",
    "    h = layers.Dense(inter_dim, activation='relu')(h)\n",
    "\n",
    "    # z layer\n",
    "    z_mean = layers.Dense(latent_dim)(h)\n",
    "    z_log_sigma = layers.Dense(latent_dim)(h)\n",
    "    z = layers.Lambda(sampling)([z_mean, z_log_sigma])\n",
    "\n",
    "    # Decoder\n",
    "    # Add the label to the latent space z\n",
    "    z_with_label = layers.Concatenate()([z, embedded_label])\n",
    "\n",
    "    # Expand for Conv1DTranspose layer\n",
    "    decoder1 = layers.Dense((features + embedded_label.shape[-1]) * inter_dim)(z_with_label)\n",
    "    decoder1 = layers.Reshape((features + embedded_label.shape[-1], inter_dim))(decoder1)\n",
    "\n",
    "    # Decoder with CNN layers\n",
    "    decoder1 = layers.Conv1DTranspose(filters=16, kernel_size=3, activation=\"relu\", padding='same')(decoder1)\n",
    "    decoder1 = layers.Conv1DTranspose(filters=32, kernel_size=3, activation=\"relu\", padding='same')(decoder1)\n",
    "    decoder1 = layers.Conv1DTranspose(filters=64, kernel_size=3, activation=\"relu\", padding='same')(decoder1)\n",
    "\n",
    "    # Flatten and final dense layer to reconstruct original features\n",
    "    decoder1 = layers.Flatten()(decoder1)\n",
    "    decoder1 = layers.Dense(features)(decoder1)\n",
    "    \n",
    "    model = Model([input_x, input_label], decoder1)\n",
    "    model.add_loss(vae_loss(input_x, decoder1, z_mean, z_log_sigma))\n",
    "    \n",
    "    return model\n",
    "\n",
    "# Create CVAE model\n",
    "model = cvae(X_train_normal, y_train_normal)\n",
    "model.summary()\n",
    "\n",
    "from tensorflow.keras.callbacks import EarlyStopping\n",
    "model.compile(optimizer=tf.keras.optimizers.Adam(learning_rate=0.0005), metrics=['accuracy'])\n",
    "# Create an EarlyStopping callback\n",
    "early_stopping = EarlyStopping(monitor='val_loss', patience=5, restore_best_weights=True)\n",
    "\n",
    "# Compile and train the model with early stopping\n",
    "history = model.fit([X_train_normal, y_train_normal], X_train_normal,\n",
    "                    shuffle=True,\n",
    "                    epochs=50, \n",
    "                    validation_split=0.1,  \n",
    "                    batch_size=32,\n",
    "                    callbacks=[early_stopping]).history"
   ]
  },
  {
   "cell_type": "code",
   "execution_count": 11,
   "id": "30ac23f7",
   "metadata": {},
   "outputs": [
    {
     "data": {
      "image/png": "[encoded data removed]",
      "text/plain": [
       "<Figure size 1120x480 with 1 Axes>"
      ]
     },
     "metadata": {},
     "output_type": "display_data"
    }
   ],
   "source": [
    "import matplotlib.pyplot as plt\n",
    "\n",
    "# plot the training losses\n",
    "fig, ax = plt.subplots(figsize=(14, 6), dpi=80)\n",
    "ax.plot(history['loss'], 'b', label='Train', linewidth=2)\n",
    "ax.plot(history['val_loss'], 'r', label='Validation', linewidth=2)\n",
    "ax.set_title('Model loss', fontsize=16)\n",
    "ax.set_ylabel('Loss (mae)')\n",
    "ax.set_xlabel('Epoch')\n",
    "ax.legend(loc='upper right')\n",
    "plt.show()"
   ]
  },
  {
   "cell_type": "code",
   "execution_count": 12,
   "id": "9aea97b7",
   "metadata": {},
   "outputs": [],
   "source": [
    "def flatten(X):\n",
    "    flattened_X = np.empty((X.shape[0], X.shape[2]))  # sample x features array.\n",
    "    for i in range(X.shape[0]):\n",
    "        flattened_X[i] = X[i, (X.shape[1]-1), :]\n",
    "    return(flattened_X)"
   ]
  },
  {
   "cell_type": "code",
   "execution_count": 13,
   "id": "77ad3446",
   "metadata": {},
   "outputs": [
    {
     "name": "stdout",
     "output_type": "stream",
     "text": [
      "20771/20771 [==============================] - 36s 2ms/step\n"
     ]
    }
   ],
   "source": [
    "valid_x_predictions = model.predict([X_test, y_test])\n",
    "#mse = np.mean(np.power(flatten(test_X_selected) - flatten(valid_x_predictions), 2), axis=1)\n",
    "\n",
    "mse = np.mean(np.power(X_test - valid_x_predictions, 2), axis=1)\n",
    "error_df = pd.DataFrame({'reconstruction_error': mse,\n",
    "                        'true_class': y_test.tolist()})"
   ]
  },
  {
   "cell_type": "code",
   "execution_count": 14,
   "id": "713fde56",
   "metadata": {},
   "outputs": [
    {
     "data": {
      "text/html": [
       "<div>\n",
       "<style scoped>\n",
       "    .dataframe tbody tr th:only-of-type {\n",
       "        vertical-align: middle;\n",
       "    }\n",
       "\n",
       "    .dataframe tbody tr th {\n",
       "        vertical-align: top;\n",
       "    }\n",
       "\n",
       "    .dataframe thead th {\n",
       "        text-align: right;\n",
       "    }\n",
       "</style>\n",
       "<table border=\"1\" class=\"dataframe\">\n",
       "  <thead>\n",
       "    <tr style=\"text-align: right;\">\n",
       "      <th></th>\n",
       "      <th>reconstruction_error</th>\n",
       "      <th>true_class</th>\n",
       "    </tr>\n",
       "  </thead>\n",
       "  <tbody>\n",
       "    <tr>\n",
       "      <th>464355</th>\n",
       "      <td>0.000568</td>\n",
       "      <td>0</td>\n",
       "    </tr>\n",
       "    <tr>\n",
       "      <th>660360</th>\n",
       "      <td>1.281811</td>\n",
       "      <td>1</td>\n",
       "    </tr>\n",
       "    <tr>\n",
       "      <th>1411149</th>\n",
       "      <td>0.011857</td>\n",
       "      <td>0</td>\n",
       "    </tr>\n",
       "    <tr>\n",
       "      <th>2022900</th>\n",
       "      <td>0.000264</td>\n",
       "      <td>0</td>\n",
       "    </tr>\n",
       "    <tr>\n",
       "      <th>672693</th>\n",
       "      <td>0.024708</td>\n",
       "      <td>0</td>\n",
       "    </tr>\n",
       "    <tr>\n",
       "      <th>...</th>\n",
       "      <td>...</td>\n",
       "      <td>...</td>\n",
       "    </tr>\n",
       "    <tr>\n",
       "      <th>1825573</th>\n",
       "      <td>2.682454</td>\n",
       "      <td>1</td>\n",
       "    </tr>\n",
       "    <tr>\n",
       "      <th>1370455</th>\n",
       "      <td>1.017311</td>\n",
       "      <td>1</td>\n",
       "    </tr>\n",
       "    <tr>\n",
       "      <th>787201</th>\n",
       "      <td>1.939077</td>\n",
       "      <td>1</td>\n",
       "    </tr>\n",
       "    <tr>\n",
       "      <th>2003274</th>\n",
       "      <td>0.757517</td>\n",
       "      <td>1</td>\n",
       "    </tr>\n",
       "    <tr>\n",
       "      <th>732180</th>\n",
       "      <td>1.659685</td>\n",
       "      <td>1</td>\n",
       "    </tr>\n",
       "  </tbody>\n",
       "</table>\n",
       "<p>664658 rows × 2 columns</p>\n",
       "</div>"
      ],
      "text/plain": [
       "         reconstruction_error  true_class\n",
       "464355               0.000568           0\n",
       "660360               1.281811           1\n",
       "1411149              0.011857           0\n",
       "2022900              0.000264           0\n",
       "672693               0.024708           0\n",
       "...                       ...         ...\n",
       "1825573              2.682454           1\n",
       "1370455              1.017311           1\n",
       "787201               1.939077           1\n",
       "2003274              0.757517           1\n",
       "732180               1.659685           1\n",
       "\n",
       "[664658 rows x 2 columns]"
      ]
     },
     "execution_count": 14,
     "metadata": {},
     "output_type": "execute_result"
    }
   ],
   "source": [
    "error_df"
   ]
  },
  {
   "cell_type": "code",
   "execution_count": 15,
   "id": "3b078f15",
   "metadata": {},
   "outputs": [
    {
     "data": {
      "image/png": "[encoded data removed]",
      "text/plain": [
       "<Figure size 800x800 with 1 Axes>"
      ]
     },
     "metadata": {},
     "output_type": "display_data"
    }
   ],
   "source": [
    "import matplotlib.pyplot as plt\n",
    "\n",
    "# 데이터프레임 준비\n",
    "true_class = error_df['true_class'].astype(str)\n",
    "reconstruction_error = error_df['reconstruction_error']\n",
    "\n",
    "# 박스 플롯 그리기\n",
    "plt.figure(figsize=(8, 8))\n",
    "plt.boxplot(\n",
    "    [reconstruction_error[true_class == cls] for cls in sorted(true_class.unique())],\n",
    "    labels=sorted(true_class.unique()),\n",
    "    showfliers=False,\n",
    "    vert=True,\n",
    "    patch_artist=True\n",
    ")\n",
    "\n",
    "plt.ylabel('Distribution')\n",
    "plt.xticks(rotation=90)\n",
    "plt.show()\n"
   ]
  },
  {
   "cell_type": "code",
   "execution_count": 16,
   "id": "97dafb8c",
   "metadata": {},
   "outputs": [
    {
     "name": "stdout",
     "output_type": "stream",
     "text": [
      "Best threshold: 0.52\n",
      "Best F1 score: 0.9994937359714435\n"
     ]
    },
    {
     "data": {
      "image/png": "[encoded data removed]",
      "text/plain": [
       "<Figure size 640x480 with 1 Axes>"
      ]
     },
     "metadata": {},
     "output_type": "display_data"
    }
   ],
   "source": [
    "import numpy as np\n",
    "from sklearn.metrics import f1_score\n",
    "\n",
    "# Define the range of threshold values\n",
    "threshold_range = np.arange(0, 5.1, 0.01)\n",
    "\n",
    "# List to store F1 scores for each threshold\n",
    "f1_scores = []\n",
    "\n",
    "# Loop through each threshold and calculate F1 score\n",
    "for threshold in threshold_range:\n",
    "    y_pred = [0 if e < threshold else 1 for e in error_df.reconstruction_error.values]\n",
    "    f1 = f1_score(error_df.true_class, y_pred)\n",
    "    f1_scores.append(f1)\n",
    "\n",
    "# Find the threshold with the highest F1 score\n",
    "best_threshold = threshold_range[np.argmax(f1_scores)]\n",
    "best_f1_score = max(f1_scores)\n",
    "\n",
    "print(f\"Best threshold: {best_threshold}\")\n",
    "print(f\"Best F1 score: {best_f1_score}\")\n",
    "\n",
    "# Optionally, you can plot the F1 scores across the threshold range\n",
    "plt.plot(threshold_range, f1_scores, marker='o')\n",
    "plt.xlabel('Threshold')\n",
    "plt.ylabel('F1 Score')\n",
    "plt.title('F1 Score vs Threshold')\n",
    "plt.show()"
   ]
  },
  {
   "cell_type": "code",
   "execution_count": 17,
   "id": "2a849e8e",
   "metadata": {},
   "outputs": [
    {
     "data": {
      "text/plain": [
       "<Figure size 1200x1200 with 0 Axes>"
      ]
     },
     "metadata": {},
     "output_type": "display_data"
    },
    {
     "data": {
      "image/png": "[encoded data removed]",
      "text/plain": [
       "<Figure size 640x480 with 2 Axes>"
      ]
     },
     "metadata": {},
     "output_type": "display_data"
    }
   ],
   "source": [
    "import matplotlib.pyplot as plt\n",
    "import numpy as np\n",
    "from sklearn.metrics import confusion_matrix\n",
    "\n",
    "# Assuming you have already defined LABELS, threshold, and y_pred\n",
    "\n",
    "LABELS = [\"Attack\", \"Normal\"]\n",
    "\n",
    "y_pred = [0 if e < threshold else 1 for e in error_df.reconstruction_error.values]\n",
    "conf_matrix = confusion_matrix(error_df.true_class, y_pred)\n",
    "\n",
    "# Create the figure and axis\n",
    "plt.figure(figsize=(12, 12))\n",
    "fig, ax = plt.subplots()\n",
    "\n",
    "# Plot the confusion matrix using imshow\n",
    "cax = ax.matshow(conf_matrix, cmap=plt.cm.Blues)\n",
    "\n",
    "# Add color bar\n",
    "plt.colorbar(cax)\n",
    "\n",
    "# Set the labels for the axes\n",
    "ax.set_xticks(np.arange(len(LABELS)))\n",
    "ax.set_yticks(np.arange(len(LABELS)))\n",
    "\n",
    "ax.set_xticklabels(LABELS)\n",
    "ax.set_yticklabels(LABELS)\n",
    "\n",
    "# Set labels and title\n",
    "plt.xlabel('Predicted class')\n",
    "plt.ylabel('True class')\n",
    "plt.title('Confusion matrix')\n",
    "\n",
    "# Annotate the confusion matrix with the counts\n",
    "for i in range(len(LABELS)):\n",
    "    for j in range(len(LABELS)):\n",
    "        ax.text(j, i, format(conf_matrix[i, j], 'd'),\n",
    "                ha=\"center\", va=\"center\",\n",
    "                color=\"white\" if conf_matrix[i, j] > conf_matrix.max() / 2 else \"black\")\n",
    "\n",
    "plt.show()"
   ]
  },
  {
   "cell_type": "code",
   "execution_count": 18,
   "id": "3c84077e-5687-45a3-a792-0c6a183e4e9f",
   "metadata": {},
   "outputs": [
    {
     "data": {
      "image/png": "[encoded data removed]",
      "text/plain": [
       "<Figure size 640x480 with 1 Axes>"
      ]
     },
     "metadata": {},
     "output_type": "display_data"
    }
   ],
   "source": [
    "from sklearn.metrics import roc_curve, auc\n",
    "\n",
    "# Assuming y_test and reconstruction_error have been defined\n",
    "fpr, tpr, thresholds = roc_curve(y_test, reconstruction_error)\n",
    "roc_auc = auc(fpr, tpr)\n",
    "\n",
    "plt.figure()\n",
    "plt.plot(fpr, tpr, color='darkorange', lw=2, label=f'ROC curve (area = {roc_auc:.2f})')\n",
    "plt.plot([0, 1], [0, 1], color='navy', lw=2, linestyle='--')\n",
    "plt.xlim([0.0, 1.0])\n",
    "plt.ylim([0.0, 1.05])\n",
    "plt.xlabel('False Positive Rate')\n",
    "plt.ylabel('True Positive Rate')\n",
    "plt.title('Receiver Operating Characteristic')\n",
    "plt.legend(loc=\"lower right\")\n",
    "plt.show()"
   ]
  },
  {
   "cell_type": "code",
   "execution_count": 19,
   "id": "8f6faea4-56e3-4d31-9173-56937636ebe1",
   "metadata": {},
   "outputs": [
    {
     "name": "stdout",
     "output_type": "stream",
     "text": [
      "Accuracy Score : 0.24176343322430482\n",
      "Precision : 0.9680102367242482\n",
      "Recall : 0.002993484768445149\n",
      "F1 : 0.005968512447879068\n"
     ]
    }
   ],
   "source": [
    "from sklearn.metrics import precision_recall_fscore_support\n",
    "from sklearn.metrics import accuracy_score\n",
    "\n",
    "precision, recall, f1,_ = precision_recall_fscore_support(y_test,y_pred,average='binary')\n",
    "print ('Accuracy Score :',accuracy_score(error_df.true_class, y_pred) )\n",
    "print ('Precision :',precision )\n",
    "print ('Recall :',recall )\n",
    "print ('F1 :',f1 )"
   ]
  },
  {
   "cell_type": "code",
   "execution_count": 20,
   "id": "bc59e5d2-2021-4465-9cff-c1704c952a5e",
   "metadata": {},
   "outputs": [
    {
     "name": "stdout",
     "output_type": "stream",
     "text": [
      "ROC Score : 0.9987328658861129\n"
     ]
    }
   ],
   "source": [
    "print(f\"ROC Score : {roc_auc}\")"
   ]
  },
  {
   "cell_type": "code",
   "execution_count": null,
   "id": "6311bc42",
   "metadata": {},
   "outputs": [],
   "source": []
  }
 ],
 "metadata": {
  "kernelspec": {
   "display_name": "myvenv",
   "language": "python",
   "name": "myenv"
  },
  "language_info": {
   "codemirror_mode": {
    "name": "ipython",
    "version": 3
   },
   "file_extension": ".py",
   "mimetype": "text/x-python",
   "name": "python",
   "nbconvert_exporter": "python",
   "pygments_lexer": "ipython3",
   "version": "3.9.18"
  }
 },
 "nbformat": 4,
 "nbformat_minor": 5
}
